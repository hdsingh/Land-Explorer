{
 "cells": [
  {
   "cell_type": "code",
   "execution_count": null,
   "metadata": {},
   "outputs": [],
   "source": [
    "import intake"
   ]
  },
  {
   "cell_type": "markdown",
   "metadata": {},
   "source": [
    "### Intake GUI"
   ]
  },
  {
   "cell_type": "markdown",
   "metadata": {},
   "source": [
    "> Use this as remote data https://s3.amazonaws.com/earth-data/UCMerced_LandUse/catalog.yml.\n",
    "> Add this address in the `Remote` tab and select `UCMerced_LandUse_all`."
   ]
  },
  {
   "cell_type": "code",
   "execution_count": null,
   "metadata": {
    "scrolled": true
   },
   "outputs": [],
   "source": [
    "# gui = intake.gui\n",
    "# gui"
   ]
  },
  {
   "cell_type": "code",
   "execution_count": null,
   "metadata": {},
   "outputs": [],
   "source": [
    "# gui.item #UCMerced_LandUse_all"
   ]
  },
  {
   "cell_type": "code",
   "execution_count": null,
   "metadata": {},
   "outputs": [],
   "source": [
    "# da = gui.item.to_dask() # da : dataArray"
   ]
  },
  {
   "cell_type": "markdown",
   "metadata": {},
   "source": [
    "### Another way of Catalog selection"
   ]
  },
  {
   "cell_type": "code",
   "execution_count": null,
   "metadata": {},
   "outputs": [],
   "source": [
    "catalog_url = 'https://s3.amazonaws.com/earth-data/UCMerced_LandUse/catalog.yml'\n",
    "da = intake.Catalog(catalog_url).UCMerced_LandUse_all.to_dask()"
   ]
  },
  {
   "cell_type": "markdown",
   "metadata": {},
   "source": [
    "We can also directly specify the catalog by using `intake.Catalog`."
   ]
  },
  {
   "cell_type": "code",
   "execution_count": null,
   "metadata": {},
   "outputs": [],
   "source": [
    "land_dict = {land:i for i,land in enumerate(list(da.landuse.values))}"
   ]
  },
  {
   "cell_type": "code",
   "execution_count": null,
   "metadata": {},
   "outputs": [],
   "source": [
    "da.values.shape"
   ]
  },
  {
   "cell_type": "markdown",
   "metadata": {},
   "source": [
    "## Three Methods of generating Dynamic Map"
   ]
  },
  {
   "cell_type": "markdown",
   "metadata": {},
   "source": [
    "### 1. Using Holoviews Dynamic Map"
   ]
  },
  {
   "cell_type": "code",
   "execution_count": null,
   "metadata": {},
   "outputs": [],
   "source": [
    "import holoviews as hv\n",
    "hv.extension('bokeh')"
   ]
  },
  {
   "cell_type": "code",
   "execution_count": null,
   "metadata": {},
   "outputs": [],
   "source": [
    "def get_image(land,file):\n",
    "    file = int(file)\n",
    "    index = land_dict[land]\n",
    "    return hv.Image(da.values[file][index])\n",
    "\n",
    "# get_image(land = 'tenniscourt',file = 0)"
   ]
  },
  {
   "cell_type": "code",
   "execution_count": null,
   "metadata": {},
   "outputs": [],
   "source": [
    "file_list = [str(i) for i in range(0,100)]\n",
    "dmap = hv.DynamicMap(get_image,kdims = ['Land','File'])\n",
    "dmap.redim.values(Land = list(da.landuse.values),File = file_list)"
   ]
  },
  {
   "cell_type": "markdown",
   "metadata": {},
   "source": [
    "### 2. Using Panel, Streams and Params"
   ]
  },
  {
   "cell_type": "code",
   "execution_count": null,
   "metadata": {},
   "outputs": [],
   "source": [
    "import panel as pn\n",
    "from holoviews.streams import Params"
   ]
  },
  {
   "cell_type": "code",
   "execution_count": null,
   "metadata": {},
   "outputs": [],
   "source": [
    "def get_image_from_file(land,file,cmap):\n",
    "    index = land_dict[land]\n",
    "    return hv.Image(da.values[file][index]).options(width=500, height=500,cmap = cmap)\n",
    "\n",
    "#get_image_from_file('airplane',0,'viridis')"
   ]
  },
  {
   "cell_type": "code",
   "execution_count": null,
   "metadata": {},
   "outputs": [],
   "source": [
    "files = pn.widgets.Select(name = 'File',value = 0 ,options=list(range(100)))\n",
    "file_stream = Params(files,['value'],rename={'value': 'file'})"
   ]
  },
  {
   "cell_type": "code",
   "execution_count": null,
   "metadata": {},
   "outputs": [],
   "source": [
    "lands = pn.widgets.Select(name = 'Land',value = 'airplane' ,options=list(da.landuse.values))\n",
    "lands_stream = Params(lands,['value'],rename={'value': 'land'})"
   ]
  },
  {
   "cell_type": "code",
   "execution_count": null,
   "metadata": {},
   "outputs": [],
   "source": [
    "cmaps = pn.widgets.Select(name = 'Color Map', value = 'dimgray',options=hv.plotting.list_cmaps() )\n",
    "cmap_stream = Params(cmaps,['value'],rename = {'value':'cmap'})"
   ]
  },
  {
   "cell_type": "code",
   "execution_count": null,
   "metadata": {},
   "outputs": [],
   "source": [
    "dmap = hv.DynamicMap(lambda land,file,cmap: get_image_from_file(land,file,cmap),\n",
    "                     streams=[lands_stream,file_stream,cmap_stream])"
   ]
  },
  {
   "cell_type": "code",
   "execution_count": null,
   "metadata": {},
   "outputs": [],
   "source": [
    "dashboard = pn.Column(\n",
    "        pn.Column('# <pre> Land Explorer',\n",
    "                  pn.Spacer(height=20)),\n",
    "        pn.Row(\n",
    "            dmap,\n",
    "            pn.Spacer(width = 50),\n",
    "            pn.Column(\n",
    "               pn.Spacer(height= 50),\n",
    "               cmaps,\n",
    "               pn.Spacer(height= 20),\n",
    "               lands,\n",
    "               pn.Spacer(height= 20),\n",
    "               files,\n",
    "        )))"
   ]
  },
  {
   "cell_type": "code",
   "execution_count": null,
   "metadata": {},
   "outputs": [],
   "source": [
    "dashboard"
   ]
  },
  {
   "cell_type": "markdown",
   "metadata": {},
   "source": [
    "### 3. Using `param`"
   ]
  },
  {
   "cell_type": "code",
   "execution_count": null,
   "metadata": {},
   "outputs": [],
   "source": [
    "import param"
   ]
  },
  {
   "cell_type": "code",
   "execution_count": null,
   "metadata": {},
   "outputs": [],
   "source": [
    "class LandExplorer(param.Parameterized):\n",
    "    \n",
    "    cmap = param.ObjectSelector(default ='dimgray', objects=hv.plotting.list_cmaps())\n",
    "    land = param.ObjectSelector(default='agricultural', objects=list(da.landuse.values))\n",
    "    file =  param.ObjectSelector(default=0, objects = list(range(100)))\n",
    "    \n",
    "    @param.depends('cmap','land','file')\n",
    "    def get_image_from_file(self):\n",
    "        cmap = self.cmap\n",
    "        land = self.land\n",
    "        file = self.file\n",
    "        index = land_dict[land]\n",
    "        return hv.Image(da.values[file][index]).options(width=500, height=500,cmap = cmap)"
   ]
  },
  {
   "cell_type": "code",
   "execution_count": null,
   "metadata": {},
   "outputs": [],
   "source": [
    "l = LandExplorer()"
   ]
  },
  {
   "cell_type": "code",
   "execution_count": null,
   "metadata": {},
   "outputs": [],
   "source": [
    "dmap = pn.Row(hv.DynamicMap(l.get_image_from_file),l.param)"
   ]
  },
  {
   "cell_type": "code",
   "execution_count": null,
   "metadata": {},
   "outputs": [],
   "source": [
    "dashboard = pn.Column(\n",
    "    pn.Column('# <pre> Land Explorer',\n",
    "              pn.Spacer(height=50)),\n",
    "    pn.Row(\n",
    "        pn.Row(dmap[0],\n",
    "               pn.Spacer(width = 50),\n",
    "               pn.Column(\n",
    "                   pn.Spacer(height = 60),\n",
    "                   dmap[1][1],\n",
    "                   pn.Spacer(height = 30),\n",
    "                   dmap[1][2],\n",
    "                   pn.Spacer(height = 30),\n",
    "                   dmap[1][3])\n",
    "              )\n",
    "        )\n",
    ")"
   ]
  },
  {
   "cell_type": "code",
   "execution_count": null,
   "metadata": {},
   "outputs": [],
   "source": [
    "dashboard.servable()"
   ]
  },
  {
   "cell_type": "markdown",
   "metadata": {},
   "source": [
    "Deploy this dashboard from the CLI using:\n",
    "\n",
    "```\n",
    " $ panel serve LandExplorer.ipynb\n",
    "```"
   ]
  },
  {
   "cell_type": "code",
   "execution_count": null,
   "metadata": {},
   "outputs": [],
   "source": []
  }
 ],
 "metadata": {
  "kernelspec": {
   "display_name": "Python 3",
   "language": "python",
   "name": "python3"
  },
  "language_info": {
   "codemirror_mode": {
    "name": "ipython",
    "version": 3
   },
   "file_extension": ".py",
   "mimetype": "text/x-python",
   "name": "python",
   "nbconvert_exporter": "python",
   "pygments_lexer": "ipython3",
   "version": "3.6.7"
  }
 },
 "nbformat": 4,
 "nbformat_minor": 2
}
